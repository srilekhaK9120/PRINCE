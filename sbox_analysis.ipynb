{
 "cells": [
  {
   "cell_type": "markdown",
   "metadata": {},
   "source": [
    "#### **From inbuilt sage functions**"
   ]
  },
  {
   "cell_type": "code",
   "execution_count": 3,
   "metadata": {},
   "outputs": [],
   "source": [
    "from sage.crypto.sboxes import PRINCE as s"
   ]
  },
  {
   "cell_type": "code",
   "execution_count": 4,
   "metadata": {},
   "outputs": [
    {
     "data": {
      "text/plain": [
       "(11, 15, 3, 2, 10, 12, 9, 1, 6, 7, 8, 0, 14, 5, 13, 4)"
      ]
     },
     "execution_count": 4,
     "metadata": {},
     "output_type": "execute_result"
    }
   ],
   "source": [
    "s"
   ]
  },
  {
   "cell_type": "markdown",
   "metadata": {},
   "source": [
    "#### **The Difference Distribution Table (DDT) captures how good an S-box is at preventing differential cryptanalysis.**\n",
    "#### **LAT quantifies how close each component of S to each Boolean linear function. Unlike the DDT, its coefficients are signed.**"
   ]
  },
  {
   "cell_type": "code",
   "execution_count": 8,
   "metadata": {},
   "outputs": [
    {
     "name": "stdout",
     "output_type": "stream",
     "text": [
      "[16  0  0  0  0  0  0  0  0  0  0  0  0  0  0  0]\n",
      "[ 0  4  0  0  2  0  2  0  4  2  0  2  0  0  0  0]\n",
      "[ 0  2  0  4  0  0  0  2  2  0  0  0  0  4  2  0]\n",
      "[ 0  0  0  0  0  2  2  0  2  2  2  2  2  0  0  2]\n",
      "[ 0  2  2  4  2  2  0  0  2  0  2  0  0  0  0  0]\n",
      "[ 0  0  2  2  0  2  0  2  0  2  0  2  2  2  0  0]\n",
      "[ 0  0  2  2  0  2  2  0  0  2  0  2  0  0  4  0]\n",
      "[ 0  0  2  0  0  0  2  0  2  0  4  0  0  2  2  2]\n",
      "[ 0  0  2  0  4  2  0  0  2  2  0  2  0  2  0  0]\n",
      "[ 0  0  2  2  0  0  0  0  0  2  2  0  4  2  0  2]\n",
      "[ 0  0  0  2  2  4  0  4  2  0  0  0  0  0  0  2]\n",
      "[ 0  2  0  0  4  0  0  2  0  0  0  2  2  0  2  2]\n",
      "[ 0  4  0  0  0  2  2  0  0  0  2  2  2  0  2  0]\n",
      "[ 0  2  0  0  0  0  0  2  0  4  2  0  0  2  2  2]\n",
      "[ 0  0  2  0  0  0  4  2  0  0  0  2  2  2  0  2]\n",
      "[ 0  0  2  0  2  0  2  2  0  0  2  0  2  0  2  2]\n",
      "The differential_uniformity is 4\n",
      "\n",
      "[ 8  0  0  0  0  0  0  0  0  0  0  0  0  0  0  0]\n",
      "[ 0  0 -2 -2  2 -2  0  4 -4  0 -2  2 -2 -2  0  0]\n",
      "[ 0  0 -4  0 -4  0  0  0 -2 -2  2 -2 -2  2  2  2]\n",
      "[ 0  4 -2 -2  2 -2  0  0  2  2  4  0  0  0  2 -2]\n",
      "[ 0  0 -4  4  2  2  2  2  2  2 -2 -2  0  0  0  0]\n",
      "[ 0  0  2  2  0 -4 -2  2  2 -2  0 -4 -2 -2  0  0]\n",
      "[ 0 -4  0  0 -2 -2  2 -2  0  4  0  0 -2 -2  2 -2]\n",
      "[ 0  0  2 -2  0  0 -2  2  0  4 -2 -2  0  4  2  2]\n",
      "[ 0 -2 -2  0  4 -2 -2 -4 -2  0  0 -2  2  0  0  2]\n",
      "[ 0 -2  0  2  2  0 -2  0  2  0  2  4 -4  2  0  2]\n",
      "[ 0  2  2  4  0  2 -2  0 -4  2  2  0  0 -2  2  0]\n",
      "[ 0 -2  0 -2  2  4 -2  0  0 -2  0 -2 -2  0  2 -4]\n",
      "[ 0 -2 -2  0 -2  0 -4  2  0  2  2  0  2  0 -4 -2]\n",
      "[ 0 -2  0  2  0 -2  0  2  0 -2  0  2  4  2  4 -2]\n",
      "[ 0 -2  2  0  2  0  4  2 -2  0  4 -2  0  2 -2  0]\n",
      "[ 0  2  0  2  0 -2  0 -2 -2  0 -2  0 -2  4 -2 -4]\n",
      "The linearity is 8\n"
     ]
    },
    {
     "data": {
      "text/plain": [
       "(11, 7, 3, 2, 15, 13, 8, 9, 10, 6, 4, 0, 5, 14, 12, 1)"
      ]
     },
     "execution_count": 8,
     "metadata": {},
     "output_type": "execute_result"
    }
   ],
   "source": [
    "a = s.difference_distribution_table()\n",
    "b = s.differential_uniformity()\n",
    "print(a)\n",
    "print(f'The differential_uniformity is {b}')\n",
    "print()\n",
    "c = s.linear_approximation_table()\n",
    "d = s.linearity()\n",
    "print(c)\n",
    "print(f'The linearity is {d}')\n",
    "\n",
    "s.inverse()\n"
   ]
  },
  {
   "cell_type": "markdown",
   "metadata": {},
   "source": [
    "#### **Differential Distribution Table code**"
   ]
  },
  {
   "cell_type": "code",
   "execution_count": 16,
   "metadata": {},
   "outputs": [
    {
     "name": "stdout",
     "output_type": "stream",
     "text": [
      "DDT for given s_box:\n",
      "[16, 0, 0, 0, 0, 0, 0, 0, 0, 0, 0, 0, 0, 0, 0, 0]\n",
      "[0, 4, 0, 0, 2, 0, 2, 0, 4, 2, 0, 2, 0, 0, 0, 0]\n",
      "[0, 2, 0, 4, 0, 0, 0, 2, 2, 0, 0, 0, 0, 4, 2, 0]\n",
      "[0, 0, 0, 0, 0, 2, 2, 0, 2, 2, 2, 2, 2, 0, 0, 2]\n",
      "[0, 2, 2, 4, 2, 2, 0, 0, 2, 0, 2, 0, 0, 0, 0, 0]\n",
      "[0, 0, 2, 2, 0, 2, 0, 2, 0, 2, 0, 2, 2, 2, 0, 0]\n",
      "[0, 0, 2, 2, 0, 2, 2, 0, 0, 2, 0, 2, 0, 0, 4, 0]\n",
      "[0, 0, 2, 0, 0, 0, 2, 0, 2, 0, 4, 0, 0, 2, 2, 2]\n",
      "[0, 0, 2, 0, 4, 2, 0, 0, 2, 2, 0, 2, 0, 2, 0, 0]\n",
      "[0, 0, 2, 2, 0, 0, 0, 0, 0, 2, 2, 0, 4, 2, 0, 2]\n",
      "[0, 0, 0, 2, 2, 4, 0, 4, 2, 0, 0, 0, 0, 0, 0, 2]\n",
      "[0, 2, 0, 0, 4, 0, 0, 2, 0, 0, 0, 2, 2, 0, 2, 2]\n",
      "[0, 4, 0, 0, 0, 2, 2, 0, 0, 0, 2, 2, 2, 0, 2, 0]\n",
      "[0, 2, 0, 0, 0, 0, 0, 2, 0, 4, 2, 0, 0, 2, 2, 2]\n",
      "[0, 0, 2, 0, 0, 0, 4, 2, 0, 0, 0, 2, 2, 2, 0, 2]\n",
      "[0, 0, 2, 0, 2, 0, 2, 2, 0, 0, 2, 0, 2, 0, 2, 2]\n",
      "\n",
      "For input difference \"0\": \"1\" possible output differences.\n",
      "For input difference \"1\": \"6\" possible output differences.\n",
      "For input difference \"2\": \"6\" possible output differences.\n",
      "For input difference \"3\": \"8\" possible output differences.\n",
      "For input difference \"4\": \"7\" possible output differences.\n",
      "For input difference \"5\": \"8\" possible output differences.\n",
      "For input difference \"6\": \"7\" possible output differences.\n",
      "For input difference \"7\": \"7\" possible output differences.\n",
      "For input difference \"8\": \"7\" possible output differences.\n",
      "For input difference \"9\": \"7\" possible output differences.\n",
      "For input difference \"10\": \"6\" possible output differences.\n",
      "For input difference \"11\": \"7\" possible output differences.\n",
      "For input difference \"12\": \"7\" possible output differences.\n",
      "For input difference \"13\": \"7\" possible output differences.\n",
      "For input difference \"14\": \"7\" possible output differences.\n",
      "For input difference \"15\": \"8\" possible output differences.\n"
     ]
    }
   ],
   "source": [
    "s_box = {\"0\": \"b\", \"1\": \"f\", \"2\": \"3\", \"3\": \"2\", \"4\": \"a\", \"5\": \"c\", \"6\": \"9\", \"7\": \"1\",\n",
    "         \"8\": \"6\", \"9\": \"7\", \"a\": \"8\", \"b\": \"0\", \"c\": \"e\", \"d\": \"5\", \"e\": \"d\", \"f\": \"4\"}\n",
    "# 16*16 matrix\n",
    "DDT = [[0 for i in range(16)] for j in range(16)]\n",
    "for i in range(16):\n",
    "    for j in range(16):\n",
    "        inp = i ^ j\n",
    "        temp = hex(i)\n",
    "        temp = temp[2:]\n",
    "        v0 = int(s_box[temp], 16)\n",
    "        temp = hex(j)\n",
    "        temp = temp[2:]\n",
    "        v1 = int(s_box[temp], 16)\n",
    "        out = v0 ^ v1\n",
    "        DDT[inp][out] = DDT[inp][out]+1\n",
    "\n",
    "print(\"DDT for given s_box:\")\n",
    "for row in DDT:\n",
    "    print(row)\n",
    "print(\"\")\n",
    "\n",
    "for idx,row in enumerate(DDT):\n",
    "    sol = 0\n",
    "    for j in row:\n",
    "        if j != 0:\n",
    "            sol += 1\n",
    "    print(f'For input difference \"{idx}\": \"{sol}\" possible output differences.')\n"
   ]
  },
  {
   "cell_type": "markdown",
   "metadata": {},
   "source": [
    "#### **Linear Approximation Table**"
   ]
  },
  {
   "cell_type": "code",
   "execution_count": 17,
   "metadata": {},
   "outputs": [
    {
     "name": "stdout",
     "output_type": "stream",
     "text": [
      "[8, 0, -1, -1, 0, 0, 1, 1, -1, -1, 0, 0, 1, 1, 0, 0]\n",
      "[0, 0, -1, -1, 2, -2, -1, 3, -3, 1, -2, 2, -3, -3, 0, 0]\n",
      "[0, 0, -3, 1, -4, 0, -1, -1, -1, -1, 2, -2, -3, 1, 2, 2]\n",
      "[0, 4, -3, -3, 2, -2, 1, 1, 1, 1, 4, 0, 1, 1, 2, -2]\n",
      "[0, 0, -3, 5, 2, 2, 1, 1, 3, 3, -2, -2, -1, -1, 0, 0]\n",
      "[0, 0, 1, 1, 0, -4, -1, 3, 1, -3, 0, -4, -1, -1, 0, 0]\n",
      "[0, -4, -1, -1, -2, -2, 3, -1, -1, 3, 0, 0, -1, -1, 2, -2]\n",
      "[0, 0, 3, -1, 0, 0, -3, 1, 1, 5, -2, -2, -1, 3, 2, 2]\n",
      "[0, -2, -1, 1, 4, -2, -3, -5, -1, 1, 0, -2, 1, -1, 0, 2]\n",
      "[0, -2, -1, 1, 2, 0, -1, 1, 1, -1, 2, 4, -3, 3, 0, 2]\n",
      "[0, 2, 1, 3, 0, 2, -1, 1, -5, 1, 2, 0, 1, -1, 2, 0]\n",
      "[0, -2, 1, -1, 2, 4, -3, -1, 1, -1, 0, -2, -3, -1, 2, -4]\n",
      "[0, -2, -3, -1, -2, 0, -3, 3, -1, 1, 2, 0, 3, 1, -4, -2]\n",
      "[0, -2, 1, 3, 0, -2, -1, 1, 1, -1, 0, 2, 3, 1, 4, -2]\n",
      "[0, -2, 3, 1, 2, 0, 3, 1, -1, 1, 4, -2, -1, 1, -2, 0]\n",
      "[0, 2, -1, 1, 0, -2, 1, -1, -3, -1, -2, 0, -1, 5, -2, -4]\n"
     ]
    }
   ],
   "source": [
    "# s-box in list format\n",
    "s_box = [11, 15, 3, 2, 10, 12, 9, 1, 6, 7, 8, 0, 14, 5, 13, 14]\n",
    "# 16*16 matrix\n",
    "lat = [[0] * 16 for _ in range(16)]\n",
    "\n",
    "# compute mask for lat\n",
    "def mask(mask_bit, x):\n",
    "    output = 0\n",
    "    while mask_bit > 0 and x > 0:\n",
    "        temp = int(mask_bit % 2) * int(x % 2)\n",
    "        output = output ^ int(temp)\n",
    "        mask_bit /= 2\n",
    "        x /= 2\n",
    "    return output\n",
    "\n",
    "# compute bias\n",
    "def compute(alpha, beta):\n",
    "    count = 0\n",
    "    for x in range(16):\n",
    "        if mask(alpha, x) == mask(beta, s_box[x]):\n",
    "            count += 1\n",
    "    return count - 8\n",
    "\n",
    "# filling of matrix\n",
    "for alpha in range(16):\n",
    "    for beta in range(16):\n",
    "        lat[alpha][beta] = compute(alpha, beta)\n",
    "\n",
    "for row in lat:\n",
    "    print(row)\n"
   ]
  }
 ],
 "metadata": {
  "interpreter": {
   "hash": "7e8abc517abf3ac8edbf62a60ef109a8f9a965f69a894fb2e9e7f74e91d0ec8e"
  },
  "kernelspec": {
   "display_name": "SageMath 9.0",
   "language": "python",
   "name": "python3"
  },
  "language_info": {
   "codemirror_mode": {
    "name": "ipython",
    "version": 3
   },
   "file_extension": ".py",
   "mimetype": "text/x-python",
   "name": "python",
   "nbconvert_exporter": "python",
   "pygments_lexer": "ipython3",
   "version": "3.8.10"
  },
  "orig_nbformat": 4
 },
 "nbformat": 4,
 "nbformat_minor": 2
}
